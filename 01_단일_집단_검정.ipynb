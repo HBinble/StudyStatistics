{
 "cells": [
  {
   "cell_type": "code",
   "execution_count": 31,
   "id": "3473db42-310f-424e-900a-104d8a29a606",
   "metadata": {},
   "outputs": [],
   "source": [
    "# Scipy 라이브러리 사용.."
   ]
  },
  {
   "cell_type": "markdown",
   "id": "655b0e6c-9a65-42ee-ba2b-417f0476a8c6",
   "metadata": {
    "tags": []
   },
   "source": [
    "### 1.T검정 : 한 집단 평균 검정\n",
    "### ...- 단일 집단 검정(one sample t-test)"
   ]
  },
  {
   "cell_type": "code",
   "execution_count": 32,
   "id": "306315f9-2469-40b3-86f4-049cf5af0c3a",
   "metadata": {},
   "outputs": [],
   "source": [
    "# 하나의 데이터 집단의 평균과 비교하고자 하는 관측 평균값을 통해 차이를 검정하는 방법\n",
    "\n",
    "# 데이터 집단의 평균과 거리가 가까울수록 귀무가설 채택(평균 차이가 없다)\n",
    "#  - p-value 유의수준의 값이 높아진다 (p-value >= 0.05)\n",
    "\n",
    "# 데이터 집단의 평균과 거리가 멀 수록 대립가설 채택(평균 차이가 있다)\n",
    "#  - p-value 유의수준의 값이 낮아진다 (p-value < 0.05)\n",
    "\n",
    "# 사용함수 : stats.ttest_1samp(x, y), 한 집단(x), 관측평균값(y)"
   ]
  },
  {
   "cell_type": "markdown",
   "id": "6887964b-130f-4efb-8620-cddc495bd181",
   "metadata": {},
   "source": [
    "### exe-1) 학생 키에 대한 평균 차이 검정"
   ]
  },
  {
   "cell_type": "code",
   "execution_count": 33,
   "id": "93d843d4-e2a6-4ac1-9882-106bba3ed73c",
   "metadata": {},
   "outputs": [],
   "source": [
    "# 랜덤한 데이터 생성에 사용\n",
    "import numpy\n",
    "\n",
    "# T-검정에 사용되는 라이브러리 stats\n",
    "from scipy import stats"
   ]
  },
  {
   "cell_type": "code",
   "execution_count": 34,
   "id": "2cb9f40a-4b05-43f2-befa-a33e8c355877",
   "metadata": {},
   "outputs": [
    {
     "name": "stdout",
     "output_type": "stream",
     "text": [
      "평균 =  170.65\n"
     ]
    }
   ],
   "source": [
    "### 데이터 생성하기\n",
    "height_list = numpy.array([169, 167, 175, 166, 162, 180, 172, \n",
    "                           162, 173, 162, 181, 175, 181, 181,\n",
    "                           162, 165, 172, 176, 167, 165])\n",
    "height_list\n",
    "print(\"평균 = \", height_list.mean())"
   ]
  },
  {
   "cell_type": "code",
   "execution_count": 35,
   "id": "e64e4dac-b29b-4f2f-8278-f87b38715882",
   "metadata": {},
   "outputs": [
    {
     "name": "stdout",
     "output_type": "stream",
     "text": [
      "한 집단 평균 검정 (단일 표본검정) =  Ttest_1sampResult(statistic=3.6742535450095763, pvalue=0.0016115867466840847)\n",
      "t-검정 통계량 = 3.674,    p-value = 0.002\n"
     ]
    }
   ],
   "source": [
    "# 한집단 검증하기\n",
    "# 관측 평균값 정의\n",
    "pmean = 165\n",
    "\n",
    "# 검증하기\n",
    "tTestResult = stats.ttest_1samp(height_list, popmean=pmean)\n",
    "print(\"한 집단 평균 검정 (단일 표본검정) = \", tTestResult)\n",
    "print(\"t-검정 통계량 = %.3f,    p-value = %.3f\" %(tTestResult))\n",
    "\n",
    "# (해석)\n",
    "# 1. p-value=0.002 < 0.05 이므로, 귀무가설 기각\n",
    "# 2. 대립가설 채택 : 한개의 집단과 관측값의 평균은 서로 같지 않다."
   ]
  },
  {
   "cell_type": "markdown",
   "id": "0984ea92-7640-4c6a-851b-c14c49388cc0",
   "metadata": {},
   "source": [
    "### exe-2) 어느 남성 집단의 평균 키 검정\n",
    "##### - 귀무가설 : 남성 집단의 평균 키가 177이다. 샘플의 평균과 모집단의 평균은 같다.\n",
    "##### - 대립가설 : 남성 집단의 평균 키가 177아니다. 샘플의 평균과 모집단의 평균은 다르다."
   ]
  },
  {
   "cell_type": "code",
   "execution_count": 36,
   "id": "dcac7e1d",
   "metadata": {},
   "outputs": [],
   "source": [
    "import numpy as np\n",
    "import pandas as pd\n",
    "import matplotlib.pyplot as plt\n",
    "import scipy.stats as stats"
   ]
  },
  {
   "cell_type": "code",
   "execution_count": 37,
   "id": "2b2ca708",
   "metadata": {},
   "outputs": [
    {
     "name": "stdout",
     "output_type": "stream",
     "text": [
      "one_sample 평균 =  177.21999999999997\n",
      "one_sample2 평균 =  169.21999999999997\n"
     ]
    }
   ],
   "source": [
    "### 데이터 생성하기\n",
    "one_sample = [177.0, 182.7, 169.6, 176.8, 180.0]\n",
    "print(\"one_sample 평균 = \", np.array(one_sample).mean())\n",
    "\n",
    "one_sample2 = [167.0, 162.7, 169.6, 176.8, 170.0]\n",
    "print(\"one_sample2 평균 = \", np.mean(one_sample2))"
   ]
  },
  {
   "cell_type": "code",
   "execution_count": 38,
   "id": "c17c36ca",
   "metadata": {},
   "outputs": [
    {
     "name": "stdout",
     "output_type": "stream",
     "text": [
      "한 집단 평균 검정 (단일 표본검정) =  Ttest_1sampResult(statistic=0.10039070766877535, pvalue=0.9248646407498543)\n",
      "t-검정 통계량 = 0.100,    p-value = 0.925\n"
     ]
    }
   ],
   "source": [
    "# one_sample 평균차이 검증하기\n",
    "\n",
    "result1 = stats.ttest_1samp(one_sample, popmean =177)\n",
    "print(\"한 집단 평균 검정 (단일 표본검정) = \", result1)\n",
    "print(\"t-검정 통계량 = %.3f,    p-value = %.3f\" %(result1))\n",
    "\n",
    "# (해석)\n",
    "# 1. p-value = 0.925 >= 0.05 이므로, 귀무가설 채택\n",
    "# 2. 귀무가설 채택 : 한개의 집단과 관측값의 평균은 서로 같다."
   ]
  },
  {
   "cell_type": "code",
   "execution_count": 39,
   "id": "4f5bc4d6",
   "metadata": {},
   "outputs": [
    {
     "name": "stdout",
     "output_type": "stream",
     "text": [
      "한 집단 평균 검정 (단일 표본검정) =  Ttest_1sampResult(statistic=-3.3850411682038235, pvalue=0.02765632703927135)\n",
      "t-검정 통계량 = -3.385,    p-value = 0.028\n"
     ]
    }
   ],
   "source": [
    "# one_sample2 평균차이 검증하기\n",
    "\n",
    "result2 = stats.ttest_1samp(one_sample2, popmean =177)\n",
    "print(\"한 집단 평균 검정 (단일 표본검정) = \", result2)\n",
    "print(\"t-검정 통계량 = %.3f,    p-value = %.3f\" %(result2))\n",
    "\n",
    "# (해석)\n",
    "# 1. p-value = 0.028 < 0.05 이므로, 귀무가설 기각\n",
    "# 2. 대립가설 채택 : 한개의 집단과 관측값의 평균은 서로 같지 않다."
   ]
  },
  {
   "cell_type": "code",
   "execution_count": 40,
   "id": "6cafe522",
   "metadata": {},
   "outputs": [
    {
     "name": "stdout",
     "output_type": "stream",
     "text": [
      "한 집단 평균 검정 (단일 표본검정) =  Ttest_1sampResult(statistic=1.836102021827761, pvalue=0.14023105518795956)\n",
      "t-검정 통계량 = 1.836,    p-value = 0.140\n"
     ]
    }
   ],
   "source": [
    "# one_sample2 평균차이 검증하기\n",
    "\n",
    "result3 = stats.ttest_1samp(one_sample2, popmean =165)\n",
    "print(\"한 집단 평균 검정 (단일 표본검정) = \", result3)\n",
    "print(\"t-검정 통계량 = %.3f,    p-value = %.3f\" %(result3))\n",
    "\n",
    "# (해석)\n",
    "# 1. p-value = 0.140 >= 0.05 이므로, 귀무가설 채택\n",
    "# 2. 귀무가설 채택 : 한개의 집단과 관측값의 평균은 서로 같다."
   ]
  },
  {
   "cell_type": "markdown",
   "id": "6bc64648",
   "metadata": {},
   "source": [
    "### exe-3) 어느 집단 자료 평균 검정\n",
    "##### - 귀무가설 : 자료들의 평균은 0이다.\n",
    "##### - 대립가설 : 자료들의 평균은 0이 아니다."
   ]
  },
  {
   "cell_type": "code",
   "execution_count": 41,
   "id": "88053c5b",
   "metadata": {},
   "outputs": [
    {
     "name": "stdout",
     "output_type": "stream",
     "text": [
      "생성된 난수 =  [-1.0856306   0.99734545  0.2829785  -1.50629471 -0.57860025  1.65143654\n",
      " -2.42667924 -0.42891263  1.26593626 -0.8667404 ]\n",
      "10개 평균 =  -0.26951611032632805\n"
     ]
    }
   ],
   "source": [
    "# 데이터 셍성하기 \n",
    "np.random.seed(123)\n",
    "\n",
    "# 난수 평균 변수\n",
    "nCnt = 0\n",
    "\n",
    "# 생성할 난수의 갯수\n",
    "mValue = 10\n",
    "\n",
    "# 평균이 0인 정규분포를 따르는 난수 10개 생성\n",
    "x = stats.norm(nCnt).rvs(mValue)\n",
    "print(\"생성된 난수 = \", x)\n",
    "print(\"10개 평균 = \", np.mean(x))"
   ]
  },
  {
   "cell_type": "code",
   "execution_count": 42,
   "id": "56e847ce",
   "metadata": {},
   "outputs": [
    {
     "name": "stdout",
     "output_type": "stream",
     "text": [
      "정규성 검정 결과 =  ShapiroResult(statistic=0.9674148559570312, pvalue=0.8658965229988098)\n",
      "t-검정 통계량 = 0.967,    p-value = 0.866\n"
     ]
    }
   ],
   "source": [
    "# 정규성 검정(stats.shapiro())\n",
    "# 검증 시 대부분의 집단은 정규분포를 따른다는 가정하에 진행하는 것이 일반적\n",
    "# p-value의 값이 커질 수록, 평균의 분포는 정규분포를 띈다.\n",
    "\n",
    "resultSh = stats.shapiro(x)\n",
    "print(\"정규성 검정 결과 = \", resultSh)\n",
    "print(\"t-검정 통계량 = %.3f,    p-value = %.3f\" %(resultSh))\n",
    "\n",
    "# (해석)\n",
    "# - p-value = 0.866 > 0.05 이므로, 정규성을 만족한다."
   ]
  },
  {
   "cell_type": "code",
   "execution_count": 43,
   "id": "b0f98a26",
   "metadata": {},
   "outputs": [
    {
     "name": "stderr",
     "output_type": "stream",
     "text": [
      "C:\\Users\\admin\\anaconda3\\lib\\site-packages\\seaborn\\distributions.py:2619: FutureWarning: `distplot` is a deprecated function and will be removed in a future version. Please adapt your code to use either `displot` (a figure-level function with similar flexibility) or `histplot` (an axes-level function for histograms).\n",
      "  warnings.warn(msg, FutureWarning)\n",
      "C:\\Users\\admin\\anaconda3\\lib\\site-packages\\IPython\\core\\pylabtools.py:151: UserWarning: Glyph 8722 (\\N{MINUS SIGN}) missing from current font.\n",
      "  fig.canvas.print_figure(bytes_io, **kw)\n"
     ]
    },
    {
     "data": {
      "image/png": "[encoded data removed]",
      "text/plain": [
       "<Figure size 432x288 with 1 Axes>"
      ]
     },
     "metadata": {
      "needs_background": "light"
     },
     "output_type": "display_data"
    }
   ],
   "source": [
    "# 정규분포 시각화\n",
    "import seaborn as sns\n",
    "\n",
    "# 한글 처리\n",
    "plt.rc(\"font\", family = \"Malgun Gothic\")\n",
    "\n",
    "# x: 데이터 집합\n",
    "# stats.norm : 정규 분포 표시\n",
    "sns.distplot(x, fit=stats.norm)\n",
    "plt.show()"
   ]
  },
  {
   "cell_type": "code",
   "execution_count": 44,
   "id": "497ff996-1b90-45d3-b442-cdb549db9dd8",
   "metadata": {},
   "outputs": [
    {
     "name": "stdout",
     "output_type": "stream",
     "text": [
      "한 집단 평균 검정 (단일 표본검정) =  Ttest_1sampResult(statistic=-0.6540040368674593, pvalue=0.5294637946339893)\n",
      "t-검정 통계량 = -0.654,    p-value = 0.529\n"
     ]
    }
   ],
   "source": [
    "# 검증하기\n",
    "\n",
    "result4 = stats.ttest_1samp(x, popmean =0)\n",
    "print(\"한 집단 평균 검정 (단일 표본검정) = \", result4)\n",
    "print(\"t-검정 통계량 = %.3f,    p-value = %.3f\" %(result4))\n",
    "\n",
    "# (해석)\n",
    "# 1. p-value = 0.529 >= 0.05 이므로, 귀무가설 채택\n",
    "# 2. 귀무가설 채택 : 한개의 집단과 관측값의 평균은 서로 같다."
   ]
  },
  {
   "cell_type": "code",
   "execution_count": 45,
   "id": "0901d11c-fa8e-4141-97af-0addabbc4a35",
   "metadata": {},
   "outputs": [
    {
     "name": "stdout",
     "output_type": "stream",
     "text": [
      "한 집단 평균 검정 (단일 표본검정) =  Ttest_1sampResult(statistic=-2.595272886660806, pvalue=0.028961904737220684)\n",
      "t-검정 통계량 = -2.595,    p-value = 0.029\n"
     ]
    }
   ],
   "source": [
    "# 검증하기\n",
    "\n",
    "result5 = stats.ttest_1samp(x, popmean =0.8)\n",
    "print(\"한 집단 평균 검정 (단일 표본검정) = \", result5)\n",
    "print(\"t-검정 통계량 = %.3f,    p-value = %.3f\" %(result5))\n",
    "\n",
    "# (해석)\n",
    "# 1. p-value = 0.029 < 0.05 이므로, 귀무가설 기각\n",
    "# 2. 대립가설 채택 : 한개의 집단과 관측값의 평균은 서로 같지 않다."
   ]
  },
  {
   "cell_type": "markdown",
   "id": "20636901-e9d0-4980-b1e0-673eca4ef864",
   "metadata": {},
   "source": [
    "### exe-4) 중학교 1개반 학생들의 시험결과가 담긴 student.csv 사용\n",
    "##### 귀무가설 : 학생들의 국어점수의 평균은 80이다\n",
    "##### 대립가설 : 학생들의 국어점수의 평균은 80이 아니다"
   ]
  },
  {
   "cell_type": "code",
   "execution_count": 46,
   "id": "55150107-880a-4799-9a05-bc25e2c99225",
   "metadata": {},
   "outputs": [
    {
     "data": {
      "text/html": [
       "<div>\n",
       "<style scoped>\n",
       "    .dataframe tbody tr th:only-of-type {\n",
       "        vertical-align: middle;\n",
       "    }\n",
       "\n",
       "    .dataframe tbody tr th {\n",
       "        vertical-align: top;\n",
       "    }\n",
       "\n",
       "    .dataframe thead th {\n",
       "        text-align: right;\n",
       "    }\n",
       "</style>\n",
       "<table border=\"1\" class=\"dataframe\">\n",
       "  <thead>\n",
       "    <tr style=\"text-align: right;\">\n",
       "      <th></th>\n",
       "      <th>이름</th>\n",
       "      <th>국어</th>\n",
       "      <th>영어</th>\n",
       "      <th>수학</th>\n",
       "    </tr>\n",
       "  </thead>\n",
       "  <tbody>\n",
       "    <tr>\n",
       "      <th>0</th>\n",
       "      <td>홍길동1</td>\n",
       "      <td>90</td>\n",
       "      <td>45</td>\n",
       "      <td>56</td>\n",
       "    </tr>\n",
       "    <tr>\n",
       "      <th>1</th>\n",
       "      <td>홍길동2</td>\n",
       "      <td>80</td>\n",
       "      <td>65</td>\n",
       "      <td>77</td>\n",
       "    </tr>\n",
       "    <tr>\n",
       "      <th>2</th>\n",
       "      <td>홍길동3</td>\n",
       "      <td>87</td>\n",
       "      <td>67</td>\n",
       "      <td>54</td>\n",
       "    </tr>\n",
       "    <tr>\n",
       "      <th>3</th>\n",
       "      <td>홍길동4</td>\n",
       "      <td>55</td>\n",
       "      <td>88</td>\n",
       "      <td>65</td>\n",
       "    </tr>\n",
       "    <tr>\n",
       "      <th>4</th>\n",
       "      <td>홍길동5</td>\n",
       "      <td>66</td>\n",
       "      <td>90</td>\n",
       "      <td>33</td>\n",
       "    </tr>\n",
       "    <tr>\n",
       "      <th>5</th>\n",
       "      <td>홍길동6</td>\n",
       "      <td>78</td>\n",
       "      <td>44</td>\n",
       "      <td>45</td>\n",
       "    </tr>\n",
       "    <tr>\n",
       "      <th>6</th>\n",
       "      <td>홍길동7</td>\n",
       "      <td>45</td>\n",
       "      <td>55</td>\n",
       "      <td>76</td>\n",
       "    </tr>\n",
       "    <tr>\n",
       "      <th>7</th>\n",
       "      <td>홍길동8</td>\n",
       "      <td>78</td>\n",
       "      <td>66</td>\n",
       "      <td>87</td>\n",
       "    </tr>\n",
       "    <tr>\n",
       "      <th>8</th>\n",
       "      <td>홍길동9</td>\n",
       "      <td>95</td>\n",
       "      <td>77</td>\n",
       "      <td>65</td>\n",
       "    </tr>\n",
       "    <tr>\n",
       "      <th>9</th>\n",
       "      <td>홍길동10</td>\n",
       "      <td>78</td>\n",
       "      <td>67</td>\n",
       "      <td>90</td>\n",
       "    </tr>\n",
       "    <tr>\n",
       "      <th>10</th>\n",
       "      <td>홍길동11</td>\n",
       "      <td>55</td>\n",
       "      <td>57</td>\n",
       "      <td>96</td>\n",
       "    </tr>\n",
       "    <tr>\n",
       "      <th>11</th>\n",
       "      <td>홍길동12</td>\n",
       "      <td>99</td>\n",
       "      <td>87</td>\n",
       "      <td>67</td>\n",
       "    </tr>\n",
       "    <tr>\n",
       "      <th>12</th>\n",
       "      <td>홍길동13</td>\n",
       "      <td>88</td>\n",
       "      <td>82</td>\n",
       "      <td>45</td>\n",
       "    </tr>\n",
       "    <tr>\n",
       "      <th>13</th>\n",
       "      <td>홍길동14</td>\n",
       "      <td>78</td>\n",
       "      <td>65</td>\n",
       "      <td>45</td>\n",
       "    </tr>\n",
       "    <tr>\n",
       "      <th>14</th>\n",
       "      <td>홍길동15</td>\n",
       "      <td>67</td>\n",
       "      <td>98</td>\n",
       "      <td>76</td>\n",
       "    </tr>\n",
       "    <tr>\n",
       "      <th>15</th>\n",
       "      <td>홍길동16</td>\n",
       "      <td>73</td>\n",
       "      <td>45</td>\n",
       "      <td>45</td>\n",
       "    </tr>\n",
       "    <tr>\n",
       "      <th>16</th>\n",
       "      <td>홍길동17</td>\n",
       "      <td>92</td>\n",
       "      <td>67</td>\n",
       "      <td>67</td>\n",
       "    </tr>\n",
       "    <tr>\n",
       "      <th>17</th>\n",
       "      <td>홍길동18</td>\n",
       "      <td>91</td>\n",
       "      <td>33</td>\n",
       "      <td>45</td>\n",
       "    </tr>\n",
       "    <tr>\n",
       "      <th>18</th>\n",
       "      <td>홍길동19</td>\n",
       "      <td>98</td>\n",
       "      <td>90</td>\n",
       "      <td>67</td>\n",
       "    </tr>\n",
       "  </tbody>\n",
       "</table>\n",
       "</div>"
      ],
      "text/plain": [
       "       이름  국어  영어  수학\n",
       "0    홍길동1  90  45  56\n",
       "1    홍길동2  80  65  77\n",
       "2    홍길동3  87  67  54\n",
       "3    홍길동4  55  88  65\n",
       "4    홍길동5  66  90  33\n",
       "5    홍길동6  78  44  45\n",
       "6    홍길동7  45  55  76\n",
       "7    홍길동8  78  66  87\n",
       "8    홍길동9  95  77  65\n",
       "9   홍길동10  78  67  90\n",
       "10  홍길동11  55  57  96\n",
       "11  홍길동12  99  87  67\n",
       "12  홍길동13  88  82  45\n",
       "13  홍길동14  78  65  45\n",
       "14  홍길동15  67  98  76\n",
       "15  홍길동16  73  45  45\n",
       "16  홍길동17  92  67  67\n",
       "17  홍길동18  91  33  45\n",
       "18  홍길동19  98  90  67"
      ]
     },
     "execution_count": 46,
     "metadata": {},
     "output_type": "execute_result"
    }
   ],
   "source": [
    "# 데이터 생성 : student.csv 사용\n",
    "import pandas as pd\n",
    "import scipy.stats as stats\n",
    "import numpy as np\n",
    "\n",
    "data = pd.read_csv(\"./data/student.csv\")\n",
    "data"
   ]
  },
  {
   "cell_type": "code",
   "execution_count": 47,
   "id": "75a9bb68-04d4-4bb9-914f-8ee11de8b3eb",
   "metadata": {},
   "outputs": [
    {
     "name": "stdout",
     "output_type": "stream",
     "text": [
      "정규성 검정 결과 =  ShapiroResult(statistic=0.9356319904327393, pvalue=0.21971704065799713)\n",
      "t-검정 통계량 = 0.936,    p-value = 0.220\n"
     ]
    }
   ],
   "source": [
    "# 정규성 검정(stats.shapiro())\n",
    "# 검증 시 대부분의 집단은 정규분포를 따른다는 가정하에 진행하는 것이 일반적\n",
    "# p-value의 값이 커질 수록, 평균의 분포는 정규분포를 띈다.\n",
    "\n",
    "resultSh = stats.shapiro(data[\"국어\"])\n",
    "print(\"정규성 검정 결과 = \", resultSh)\n",
    "print(\"t-검정 통계량 = %.3f,    p-value = %.3f\" %(resultSh))\n",
    "\n",
    "# (해석)\n",
    "# - p-value = 0.220 > 0.05 이므로, 정규성을 만족한다."
   ]
  },
  {
   "cell_type": "code",
   "execution_count": 48,
   "id": "aee2576d-ab8c-4ca3-9c27-1453c3a4ab18",
   "metadata": {},
   "outputs": [
    {
     "name": "stderr",
     "output_type": "stream",
     "text": [
      "C:\\Users\\admin\\anaconda3\\lib\\site-packages\\seaborn\\distributions.py:2619: FutureWarning: `distplot` is a deprecated function and will be removed in a future version. Please adapt your code to use either `displot` (a figure-level function with similar flexibility) or `histplot` (an axes-level function for histograms).\n",
      "  warnings.warn(msg, FutureWarning)\n"
     ]
    },
    {
     "data": {
      "image/png": "[encoded data removed]",
      "text/plain": [
       "<Figure size 432x288 with 1 Axes>"
      ]
     },
     "metadata": {
      "needs_background": "light"
     },
     "output_type": "display_data"
    }
   ],
   "source": [
    "# 정규분포 시각화\n",
    "import seaborn as sns\n",
    "\n",
    "# 한글 처리\n",
    "plt.rc(\"font\", family = \"Malgun Gothic\")\n",
    "\n",
    "# x: 데이터 집합\n",
    "# stats.norm : 정규 분포 표시\n",
    "sns.distplot(data[\"국어\"], fit=stats.norm)\n",
    "plt.show()"
   ]
  },
  {
   "cell_type": "code",
   "execution_count": 49,
   "id": "ebfe8b12-c573-413a-8a72-3ecdf62b2ebd",
   "metadata": {},
   "outputs": [
    {
     "name": "stdout",
     "output_type": "stream",
     "text": [
      "한 집단 평균 검정 (단일 표본검정) =  Ttest_1sampResult(statistic=-0.40289533293226004, pvalue=0.6917702523394662)\n",
      "t-검정 통계량 = -0.403,    p-value = 0.692\n"
     ]
    }
   ],
   "source": [
    "# 평균차이 검정\n",
    "\n",
    "result5 = stats.ttest_1samp(data[\"국어\"], popmean =80)\n",
    "print(\"한 집단 평균 검정 (단일 표본검정) = \", result5)\n",
    "print(\"t-검정 통계량 = %.3f,    p-value = %.3f\" %(result5))\n",
    "\n",
    "# (해석)\n",
    "# 1. p-value = 0.692 >= 0.05 이므로, 귀무가설 채택\n",
    "# 2. 귀무가설 채택 : 한개의 집단과 관측값의 평균은 서로 같다.\n",
    "#                 : 국어점수의 평균은 80에 가깝다.\n"
   ]
  },
  {
   "cell_type": "code",
   "execution_count": 50,
   "id": "9dbbb1f7-5111-4f6e-a374-205cd6df4cbf",
   "metadata": {},
   "outputs": [
    {
     "name": "stdout",
     "output_type": "stream",
     "text": [
      "한 집단 평균 검정 (단일 표본검정) =  Ttest_1sampResult(statistic=5.2674834268551125, pvalue=5.222868685761389e-05)\n",
      "t-검정 통계량 = 5.267,    p-value = 0.000\n"
     ]
    }
   ],
   "source": [
    "# 평균차이 검정\n",
    "\n",
    "result5 = stats.ttest_1samp(data[\"국어\"], popmean =60)\n",
    "print(\"한 집단 평균 검정 (단일 표본검정) = \", result5)\n",
    "print(\"t-검정 통계량 = %.3f,    p-value = %.3f\" %(result5))\n",
    "\n",
    "# (해석)\n",
    "# 1. p-value = 0.000 >= 0.05 이므로, 귀무가설 기각\n",
    "# 2. 대립가설 채택 : 한개의 집단과 관측값의 평균은 서로 같지 않다.\n",
    "#                 : 국어점수의 평균은 60에 가깝지 않다.\n"
   ]
  },
  {
   "cell_type": "markdown",
   "id": "348be9aa-7581-42a6-895d-5393e5ea9928",
   "metadata": {},
   "source": [
    "### exe-5) 여아 신생아 몸무게의 평균 검정\n",
    "##### 분석 근거 \n",
    "\n",
    "##### : 일반적으로 여아 신생아의 몸무게의 평균은 2800g으로 알려져 왔다. 일부에서는 이보다 크다고 주장하고 있다. 누가 맞을까?"
   ]
  },
  {
   "cell_type": "code",
   "execution_count": 51,
   "id": "e2ba97a5-987b-4efc-b646-3b54f1a4ca44",
   "metadata": {
    "tags": []
   },
   "outputs": [
    {
     "data": {
      "text/html": [
       "<div>\n",
       "<style scoped>\n",
       "    .dataframe tbody tr th:only-of-type {\n",
       "        vertical-align: middle;\n",
       "    }\n",
       "\n",
       "    .dataframe tbody tr th {\n",
       "        vertical-align: top;\n",
       "    }\n",
       "\n",
       "    .dataframe thead th {\n",
       "        text-align: right;\n",
       "    }\n",
       "</style>\n",
       "<table border=\"1\" class=\"dataframe\">\n",
       "  <thead>\n",
       "    <tr style=\"text-align: right;\">\n",
       "      <th></th>\n",
       "      <th>time</th>\n",
       "      <th>gender</th>\n",
       "      <th>weight</th>\n",
       "      <th>minutes</th>\n",
       "    </tr>\n",
       "  </thead>\n",
       "  <tbody>\n",
       "    <tr>\n",
       "      <th>0</th>\n",
       "      <td>5</td>\n",
       "      <td>1</td>\n",
       "      <td>3837</td>\n",
       "      <td>5</td>\n",
       "    </tr>\n",
       "    <tr>\n",
       "      <th>1</th>\n",
       "      <td>104</td>\n",
       "      <td>1</td>\n",
       "      <td>3334</td>\n",
       "      <td>64</td>\n",
       "    </tr>\n",
       "    <tr>\n",
       "      <th>2</th>\n",
       "      <td>118</td>\n",
       "      <td>2</td>\n",
       "      <td>3554</td>\n",
       "      <td>78</td>\n",
       "    </tr>\n",
       "    <tr>\n",
       "      <th>3</th>\n",
       "      <td>155</td>\n",
       "      <td>2</td>\n",
       "      <td>3838</td>\n",
       "      <td>115</td>\n",
       "    </tr>\n",
       "    <tr>\n",
       "      <th>4</th>\n",
       "      <td>257</td>\n",
       "      <td>2</td>\n",
       "      <td>3625</td>\n",
       "      <td>177</td>\n",
       "    </tr>\n",
       "    <tr>\n",
       "      <th>5</th>\n",
       "      <td>405</td>\n",
       "      <td>1</td>\n",
       "      <td>2208</td>\n",
       "      <td>245</td>\n",
       "    </tr>\n",
       "    <tr>\n",
       "      <th>6</th>\n",
       "      <td>407</td>\n",
       "      <td>1</td>\n",
       "      <td>1745</td>\n",
       "      <td>247</td>\n",
       "    </tr>\n",
       "    <tr>\n",
       "      <th>7</th>\n",
       "      <td>422</td>\n",
       "      <td>2</td>\n",
       "      <td>2846</td>\n",
       "      <td>262</td>\n",
       "    </tr>\n",
       "    <tr>\n",
       "      <th>8</th>\n",
       "      <td>431</td>\n",
       "      <td>2</td>\n",
       "      <td>3166</td>\n",
       "      <td>271</td>\n",
       "    </tr>\n",
       "    <tr>\n",
       "      <th>9</th>\n",
       "      <td>708</td>\n",
       "      <td>2</td>\n",
       "      <td>3520</td>\n",
       "      <td>428</td>\n",
       "    </tr>\n",
       "    <tr>\n",
       "      <th>10</th>\n",
       "      <td>735</td>\n",
       "      <td>2</td>\n",
       "      <td>3380</td>\n",
       "      <td>455</td>\n",
       "    </tr>\n",
       "    <tr>\n",
       "      <th>11</th>\n",
       "      <td>812</td>\n",
       "      <td>2</td>\n",
       "      <td>3294</td>\n",
       "      <td>492</td>\n",
       "    </tr>\n",
       "    <tr>\n",
       "      <th>12</th>\n",
       "      <td>814</td>\n",
       "      <td>1</td>\n",
       "      <td>2576</td>\n",
       "      <td>494</td>\n",
       "    </tr>\n",
       "    <tr>\n",
       "      <th>13</th>\n",
       "      <td>909</td>\n",
       "      <td>1</td>\n",
       "      <td>3208</td>\n",
       "      <td>549</td>\n",
       "    </tr>\n",
       "    <tr>\n",
       "      <th>14</th>\n",
       "      <td>1035</td>\n",
       "      <td>2</td>\n",
       "      <td>3521</td>\n",
       "      <td>635</td>\n",
       "    </tr>\n",
       "    <tr>\n",
       "      <th>15</th>\n",
       "      <td>1049</td>\n",
       "      <td>1</td>\n",
       "      <td>3746</td>\n",
       "      <td>649</td>\n",
       "    </tr>\n",
       "    <tr>\n",
       "      <th>16</th>\n",
       "      <td>1053</td>\n",
       "      <td>1</td>\n",
       "      <td>3523</td>\n",
       "      <td>653</td>\n",
       "    </tr>\n",
       "    <tr>\n",
       "      <th>17</th>\n",
       "      <td>1133</td>\n",
       "      <td>2</td>\n",
       "      <td>2902</td>\n",
       "      <td>693</td>\n",
       "    </tr>\n",
       "    <tr>\n",
       "      <th>18</th>\n",
       "      <td>1209</td>\n",
       "      <td>2</td>\n",
       "      <td>2635</td>\n",
       "      <td>729</td>\n",
       "    </tr>\n",
       "    <tr>\n",
       "      <th>19</th>\n",
       "      <td>1256</td>\n",
       "      <td>2</td>\n",
       "      <td>3920</td>\n",
       "      <td>776</td>\n",
       "    </tr>\n",
       "    <tr>\n",
       "      <th>20</th>\n",
       "      <td>1305</td>\n",
       "      <td>2</td>\n",
       "      <td>3690</td>\n",
       "      <td>785</td>\n",
       "    </tr>\n",
       "    <tr>\n",
       "      <th>21</th>\n",
       "      <td>1406</td>\n",
       "      <td>1</td>\n",
       "      <td>3430</td>\n",
       "      <td>846</td>\n",
       "    </tr>\n",
       "    <tr>\n",
       "      <th>22</th>\n",
       "      <td>1407</td>\n",
       "      <td>1</td>\n",
       "      <td>3480</td>\n",
       "      <td>847</td>\n",
       "    </tr>\n",
       "    <tr>\n",
       "      <th>23</th>\n",
       "      <td>1433</td>\n",
       "      <td>1</td>\n",
       "      <td>3116</td>\n",
       "      <td>873</td>\n",
       "    </tr>\n",
       "    <tr>\n",
       "      <th>24</th>\n",
       "      <td>1446</td>\n",
       "      <td>1</td>\n",
       "      <td>3428</td>\n",
       "      <td>886</td>\n",
       "    </tr>\n",
       "    <tr>\n",
       "      <th>25</th>\n",
       "      <td>1514</td>\n",
       "      <td>2</td>\n",
       "      <td>3783</td>\n",
       "      <td>914</td>\n",
       "    </tr>\n",
       "    <tr>\n",
       "      <th>26</th>\n",
       "      <td>1631</td>\n",
       "      <td>2</td>\n",
       "      <td>3345</td>\n",
       "      <td>991</td>\n",
       "    </tr>\n",
       "    <tr>\n",
       "      <th>27</th>\n",
       "      <td>1657</td>\n",
       "      <td>2</td>\n",
       "      <td>3034</td>\n",
       "      <td>1017</td>\n",
       "    </tr>\n",
       "    <tr>\n",
       "      <th>28</th>\n",
       "      <td>1742</td>\n",
       "      <td>1</td>\n",
       "      <td>2184</td>\n",
       "      <td>1062</td>\n",
       "    </tr>\n",
       "    <tr>\n",
       "      <th>29</th>\n",
       "      <td>1807</td>\n",
       "      <td>2</td>\n",
       "      <td>3300</td>\n",
       "      <td>1087</td>\n",
       "    </tr>\n",
       "    <tr>\n",
       "      <th>30</th>\n",
       "      <td>1825</td>\n",
       "      <td>1</td>\n",
       "      <td>2383</td>\n",
       "      <td>1105</td>\n",
       "    </tr>\n",
       "    <tr>\n",
       "      <th>31</th>\n",
       "      <td>1854</td>\n",
       "      <td>2</td>\n",
       "      <td>3428</td>\n",
       "      <td>1134</td>\n",
       "    </tr>\n",
       "    <tr>\n",
       "      <th>32</th>\n",
       "      <td>1909</td>\n",
       "      <td>2</td>\n",
       "      <td>4162</td>\n",
       "      <td>1149</td>\n",
       "    </tr>\n",
       "    <tr>\n",
       "      <th>33</th>\n",
       "      <td>1947</td>\n",
       "      <td>2</td>\n",
       "      <td>3630</td>\n",
       "      <td>1187</td>\n",
       "    </tr>\n",
       "    <tr>\n",
       "      <th>34</th>\n",
       "      <td>1949</td>\n",
       "      <td>2</td>\n",
       "      <td>3406</td>\n",
       "      <td>1189</td>\n",
       "    </tr>\n",
       "    <tr>\n",
       "      <th>35</th>\n",
       "      <td>1951</td>\n",
       "      <td>2</td>\n",
       "      <td>3402</td>\n",
       "      <td>1191</td>\n",
       "    </tr>\n",
       "    <tr>\n",
       "      <th>36</th>\n",
       "      <td>2010</td>\n",
       "      <td>1</td>\n",
       "      <td>3500</td>\n",
       "      <td>1210</td>\n",
       "    </tr>\n",
       "    <tr>\n",
       "      <th>37</th>\n",
       "      <td>2037</td>\n",
       "      <td>2</td>\n",
       "      <td>3736</td>\n",
       "      <td>1237</td>\n",
       "    </tr>\n",
       "    <tr>\n",
       "      <th>38</th>\n",
       "      <td>2051</td>\n",
       "      <td>2</td>\n",
       "      <td>3370</td>\n",
       "      <td>1251</td>\n",
       "    </tr>\n",
       "    <tr>\n",
       "      <th>39</th>\n",
       "      <td>2104</td>\n",
       "      <td>2</td>\n",
       "      <td>2121</td>\n",
       "      <td>1264</td>\n",
       "    </tr>\n",
       "    <tr>\n",
       "      <th>40</th>\n",
       "      <td>2123</td>\n",
       "      <td>2</td>\n",
       "      <td>3150</td>\n",
       "      <td>1283</td>\n",
       "    </tr>\n",
       "    <tr>\n",
       "      <th>41</th>\n",
       "      <td>2217</td>\n",
       "      <td>1</td>\n",
       "      <td>3866</td>\n",
       "      <td>1337</td>\n",
       "    </tr>\n",
       "    <tr>\n",
       "      <th>42</th>\n",
       "      <td>2327</td>\n",
       "      <td>1</td>\n",
       "      <td>3542</td>\n",
       "      <td>1407</td>\n",
       "    </tr>\n",
       "    <tr>\n",
       "      <th>43</th>\n",
       "      <td>2355</td>\n",
       "      <td>1</td>\n",
       "      <td>3278</td>\n",
       "      <td>1435</td>\n",
       "    </tr>\n",
       "  </tbody>\n",
       "</table>\n",
       "</div>"
      ],
      "text/plain": [
       "    time  gender  weight  minutes\n",
       "0      5       1    3837        5\n",
       "1    104       1    3334       64\n",
       "2    118       2    3554       78\n",
       "3    155       2    3838      115\n",
       "4    257       2    3625      177\n",
       "5    405       1    2208      245\n",
       "6    407       1    1745      247\n",
       "7    422       2    2846      262\n",
       "8    431       2    3166      271\n",
       "9    708       2    3520      428\n",
       "10   735       2    3380      455\n",
       "11   812       2    3294      492\n",
       "12   814       1    2576      494\n",
       "13   909       1    3208      549\n",
       "14  1035       2    3521      635\n",
       "15  1049       1    3746      649\n",
       "16  1053       1    3523      653\n",
       "17  1133       2    2902      693\n",
       "18  1209       2    2635      729\n",
       "19  1256       2    3920      776\n",
       "20  1305       2    3690      785\n",
       "21  1406       1    3430      846\n",
       "22  1407       1    3480      847\n",
       "23  1433       1    3116      873\n",
       "24  1446       1    3428      886\n",
       "25  1514       2    3783      914\n",
       "26  1631       2    3345      991\n",
       "27  1657       2    3034     1017\n",
       "28  1742       1    2184     1062\n",
       "29  1807       2    3300     1087\n",
       "30  1825       1    2383     1105\n",
       "31  1854       2    3428     1134\n",
       "32  1909       2    4162     1149\n",
       "33  1947       2    3630     1187\n",
       "34  1949       2    3406     1189\n",
       "35  1951       2    3402     1191\n",
       "36  2010       1    3500     1210\n",
       "37  2037       2    3736     1237\n",
       "38  2051       2    3370     1251\n",
       "39  2104       2    2121     1264\n",
       "40  2123       2    3150     1283\n",
       "41  2217       1    3866     1337\n",
       "42  2327       1    3542     1407\n",
       "43  2355       1    3278     1435"
      ]
     },
     "execution_count": 51,
     "metadata": {},
     "output_type": "execute_result"
    }
   ],
   "source": [
    "# 사용데이터 : babyboom.csv(성별 : 1-여아, 2-남아)\n",
    "import pandas as pd\n",
    "import scipy.stats as stats\n",
    "import numpy as np\n",
    "\n",
    "data = pd.read_csv(\"./data/babyboom.csv\")\n",
    "data"
   ]
  },
  {
   "cell_type": "code",
   "execution_count": 52,
   "id": "6cfe93eb-3734-4cda-82cd-0f6251537356",
   "metadata": {},
   "outputs": [
    {
     "data": {
      "text/html": [
       "<div>\n",
       "<style scoped>\n",
       "    .dataframe tbody tr th:only-of-type {\n",
       "        vertical-align: middle;\n",
       "    }\n",
       "\n",
       "    .dataframe tbody tr th {\n",
       "        vertical-align: top;\n",
       "    }\n",
       "\n",
       "    .dataframe thead th {\n",
       "        text-align: right;\n",
       "    }\n",
       "</style>\n",
       "<table border=\"1\" class=\"dataframe\">\n",
       "  <thead>\n",
       "    <tr style=\"text-align: right;\">\n",
       "      <th></th>\n",
       "      <th>time</th>\n",
       "      <th>gender</th>\n",
       "      <th>weight</th>\n",
       "      <th>minutes</th>\n",
       "    </tr>\n",
       "  </thead>\n",
       "  <tbody>\n",
       "    <tr>\n",
       "      <th>0</th>\n",
       "      <td>5</td>\n",
       "      <td>1</td>\n",
       "      <td>3837</td>\n",
       "      <td>5</td>\n",
       "    </tr>\n",
       "    <tr>\n",
       "      <th>1</th>\n",
       "      <td>104</td>\n",
       "      <td>1</td>\n",
       "      <td>3334</td>\n",
       "      <td>64</td>\n",
       "    </tr>\n",
       "    <tr>\n",
       "      <th>5</th>\n",
       "      <td>405</td>\n",
       "      <td>1</td>\n",
       "      <td>2208</td>\n",
       "      <td>245</td>\n",
       "    </tr>\n",
       "    <tr>\n",
       "      <th>6</th>\n",
       "      <td>407</td>\n",
       "      <td>1</td>\n",
       "      <td>1745</td>\n",
       "      <td>247</td>\n",
       "    </tr>\n",
       "    <tr>\n",
       "      <th>12</th>\n",
       "      <td>814</td>\n",
       "      <td>1</td>\n",
       "      <td>2576</td>\n",
       "      <td>494</td>\n",
       "    </tr>\n",
       "    <tr>\n",
       "      <th>13</th>\n",
       "      <td>909</td>\n",
       "      <td>1</td>\n",
       "      <td>3208</td>\n",
       "      <td>549</td>\n",
       "    </tr>\n",
       "    <tr>\n",
       "      <th>15</th>\n",
       "      <td>1049</td>\n",
       "      <td>1</td>\n",
       "      <td>3746</td>\n",
       "      <td>649</td>\n",
       "    </tr>\n",
       "    <tr>\n",
       "      <th>16</th>\n",
       "      <td>1053</td>\n",
       "      <td>1</td>\n",
       "      <td>3523</td>\n",
       "      <td>653</td>\n",
       "    </tr>\n",
       "    <tr>\n",
       "      <th>21</th>\n",
       "      <td>1406</td>\n",
       "      <td>1</td>\n",
       "      <td>3430</td>\n",
       "      <td>846</td>\n",
       "    </tr>\n",
       "    <tr>\n",
       "      <th>22</th>\n",
       "      <td>1407</td>\n",
       "      <td>1</td>\n",
       "      <td>3480</td>\n",
       "      <td>847</td>\n",
       "    </tr>\n",
       "    <tr>\n",
       "      <th>23</th>\n",
       "      <td>1433</td>\n",
       "      <td>1</td>\n",
       "      <td>3116</td>\n",
       "      <td>873</td>\n",
       "    </tr>\n",
       "    <tr>\n",
       "      <th>24</th>\n",
       "      <td>1446</td>\n",
       "      <td>1</td>\n",
       "      <td>3428</td>\n",
       "      <td>886</td>\n",
       "    </tr>\n",
       "    <tr>\n",
       "      <th>28</th>\n",
       "      <td>1742</td>\n",
       "      <td>1</td>\n",
       "      <td>2184</td>\n",
       "      <td>1062</td>\n",
       "    </tr>\n",
       "    <tr>\n",
       "      <th>30</th>\n",
       "      <td>1825</td>\n",
       "      <td>1</td>\n",
       "      <td>2383</td>\n",
       "      <td>1105</td>\n",
       "    </tr>\n",
       "    <tr>\n",
       "      <th>36</th>\n",
       "      <td>2010</td>\n",
       "      <td>1</td>\n",
       "      <td>3500</td>\n",
       "      <td>1210</td>\n",
       "    </tr>\n",
       "    <tr>\n",
       "      <th>41</th>\n",
       "      <td>2217</td>\n",
       "      <td>1</td>\n",
       "      <td>3866</td>\n",
       "      <td>1337</td>\n",
       "    </tr>\n",
       "    <tr>\n",
       "      <th>42</th>\n",
       "      <td>2327</td>\n",
       "      <td>1</td>\n",
       "      <td>3542</td>\n",
       "      <td>1407</td>\n",
       "    </tr>\n",
       "    <tr>\n",
       "      <th>43</th>\n",
       "      <td>2355</td>\n",
       "      <td>1</td>\n",
       "      <td>3278</td>\n",
       "      <td>1435</td>\n",
       "    </tr>\n",
       "  </tbody>\n",
       "</table>\n",
       "</div>"
      ],
      "text/plain": [
       "    time  gender  weight  minutes\n",
       "0      5       1    3837        5\n",
       "1    104       1    3334       64\n",
       "5    405       1    2208      245\n",
       "6    407       1    1745      247\n",
       "12   814       1    2576      494\n",
       "13   909       1    3208      549\n",
       "15  1049       1    3746      649\n",
       "16  1053       1    3523      653\n",
       "21  1406       1    3430      846\n",
       "22  1407       1    3480      847\n",
       "23  1433       1    3116      873\n",
       "24  1446       1    3428      886\n",
       "28  1742       1    2184     1062\n",
       "30  1825       1    2383     1105\n",
       "36  2010       1    3500     1210\n",
       "41  2217       1    3866     1337\n",
       "42  2327       1    3542     1407\n",
       "43  2355       1    3278     1435"
      ]
     },
     "execution_count": 52,
     "metadata": {},
     "output_type": "execute_result"
    }
   ],
   "source": [
    "fdata = data[data[\"gender\"] == 1]\n",
    "fdata"
   ]
  },
  {
   "cell_type": "code",
   "execution_count": 53,
   "id": "b4529e31-60de-46f1-97a9-318af59433b3",
   "metadata": {},
   "outputs": [
    {
     "name": "stdout",
     "output_type": "stream",
     "text": [
      "정규성 검정 결과 =  ShapiroResult(statistic=0.8702831864356995, pvalue=0.017984945327043533)\n",
      "t-검정 통계량 = 0.870,    p-value = 0.018\n"
     ]
    }
   ],
   "source": [
    "# 정규성 확인\n",
    "# 정규성 검정(stats.shapiro())\n",
    "# 검증 시 대부분의 집단은 정규분포를 따른다는 가정하에 진행하는 것이 일반적\n",
    "# p-value의 값이 커질 수록, 평균의 분포는 정규분포를 띈다.\n",
    "\n",
    "resultSh = stats.shapiro(fdata[\"weight\"])\n",
    "print(\"정규성 검정 결과 = \", resultSh)\n",
    "print(\"t-검정 통계량 = %.3f,    p-value = %.3f\" %(resultSh))\n",
    "\n",
    "# (해석)\n",
    "# - p-value = 0.018 < 0.05 이므로, 정규성을 만족하지 않는다. \n",
    "# 데이터의 일관성이 없다고 판단 -> 다시 데이터 수집 해야한다."
   ]
  },
  {
   "cell_type": "code",
   "execution_count": 56,
   "id": "f0d818af-99c1-431e-80b0-57539427d814",
   "metadata": {},
   "outputs": [
    {
     "name": "stderr",
     "output_type": "stream",
     "text": [
      "C:\\Users\\admin\\anaconda3\\lib\\site-packages\\seaborn\\distributions.py:2619: FutureWarning: `distplot` is a deprecated function and will be removed in a future version. Please adapt your code to use either `displot` (a figure-level function with similar flexibility) or `histplot` (an axes-level function for histograms).\n",
      "  warnings.warn(msg, FutureWarning)\n"
     ]
    },
    {
     "data": {
      "image/png": "[encoded data removed]",
      "text/plain": [
       "<Figure size 432x288 with 1 Axes>"
      ]
     },
     "metadata": {
      "needs_background": "light"
     },
     "output_type": "display_data"
    }
   ],
   "source": [
    "# 정규분포 시각화\n",
    "import seaborn as sns\n",
    "\n",
    "# 한글 처리\n",
    "plt.rc(\"font\", family = \"Malgun Gothic\")\n",
    "\n",
    "# x: 데이터 집합\n",
    "# stats.norm : 정규 분포 표시\n",
    "sns.distplot(fdata[\"weight\"], fit=stats.norm)\n",
    "plt.show()"
   ]
  },
  {
   "cell_type": "code",
   "execution_count": 55,
   "id": "aec75118-8406-4ddc-83f0-1e05e61e0143",
   "metadata": {
    "tags": []
   },
   "outputs": [
    {
     "name": "stdout",
     "output_type": "stream",
     "text": [
      "한 집단 평균 검정 (단일 표본검정) =  Ttest_1sampResult(statistic=2.233187669387536, pvalue=0.03926844173060218)\n",
      "t-검정 통계량 = 2.233,    p-value = 0.039\n"
     ]
    },
    {
     "data": {
      "text/plain": [
       "3132.4444444444443"
      ]
     },
     "execution_count": 55,
     "metadata": {},
     "output_type": "execute_result"
    }
   ],
   "source": [
    "# 평균차이 검정\n",
    "# 검증하기\n",
    "result6 = stats.ttest_1samp(fdata[\"weight\"], popmean =2800)\n",
    "print(\"한 집단 평균 검정 (단일 표본검정) = \", result6)\n",
    "print(\"t-검정 통계량 = %.3f,    p-value = %.3f\" %(result6))\n",
    "\n",
    "# (해석)\n",
    "# 1. p-value = 0.039 < 0.05 이므로, 귀무가설 기각\n",
    "# 2. 대립가설 채택 : 한개의 집단과 관측값의 평균은 서로 같지 않다.\n",
    "#                 : 여아 신생아의 평균 몸무게는  2800g과 같지 않다(아니다).\n",
    "np.mean(fdata[\"weight\"])"
   ]
  }
 ],
 "metadata": {
  "kernelspec": {
   "display_name": "Python 3 (ipykernel)",
   "language": "python",
   "name": "python3"
  },
  "language_info": {
   "codemirror_mode": {
    "name": "ipython",
    "version": 3
   },
   "file_extension": ".py",
   "mimetype": "text/x-python",
   "name": "python",
   "nbconvert_exporter": "python",
   "pygments_lexer": "ipython3",
   "version": "3.9.12"
  },
  "vscode": {
   "interpreter": {
    "hash": "38ae1ba9371524da054e8e3fbefd778d16b5a8ac7937a3f395010f627bb73919"
   }
  }
 },
 "nbformat": 4,
 "nbformat_minor": 5
}
