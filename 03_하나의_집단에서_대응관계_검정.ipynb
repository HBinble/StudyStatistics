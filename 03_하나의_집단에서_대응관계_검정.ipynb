{
 "cells": [
  {
   "cell_type": "code",
   "execution_count": null,
   "id": "58f05837-05e8-494c-a1e4-3f9e6747ddad",
   "metadata": {},
   "outputs": [],
   "source": [
    "### Paired Samples t-test\n",
    "# 하나의 집단에서 보통  전(before)/후(after)의 관계를 확인할 때 사용\n",
    "# 사용되는 함수 :ttest_rel(x, y)\n",
    "#   x = before, y= after\n",
    "# - 검증 : p-value > 0.05(전후 상관없음 = 차이없음)\n",
    "#       : p-value <= 0.05(전후 상관있음 = 차이있음)"
   ]
  },
  {
   "cell_type": "markdown",
   "id": "54bcc964-d349-4df9-8d5c-bdff3850c551",
   "metadata": {},
   "source": [
    "### exe-1) 야식을 먹기전과 먹은후의 몸무게 차이 점검\n",
    "##### - 귀무가설 : 야식을 먹기전과 먹은후의 몸무게의 차이가 없다.\n",
    "##### - 대립가설 : 야식을 먹기전과 먹은후의 몸무게의 차이가 있다."
   ]
  },
  {
   "cell_type": "code",
   "execution_count": 16,
   "id": "0671e93d-06bb-49c4-bcd8-68c739b7997a",
   "metadata": {
    "tags": []
   },
   "outputs": [
    {
     "name": "stdout",
     "output_type": "stream",
     "text": [
      "beforeWeights =  [40 54 73 69 62 62 57 60 46 55 52 74 72 51 61 41 48 46 79 45]\n",
      "\n",
      "afterWeights =  [39.3268982  53.83020797 71.85912314 67.20359719 62.89699588 58.62648457\n",
      " 55.69927059 59.47176683 44.8436959  55.28230176 50.79279426 72.4894823\n",
      " 71.39129245 52.2515918  57.79361953 42.69032965 45.81486648 47.11812627\n",
      " 78.8365911  44.12349339]\n",
      "검정 결과 =  Ttest_relResult(statistic=2.398595031007291, pvalue=0.02688349616911914)\n",
      "검정 통계량 = 2.399,   p-value = 0.027\n"
     ]
    }
   ],
   "source": [
    "import numpy as np\n",
    "from scipy import stats as stats\n",
    "\n",
    "# 야식 복용 전 몸무게 랜덤 생성\n",
    "beforeWeights = np.random.randint(low=40, high=90, size=20)\n",
    "print(\"beforeWeights = \", beforeWeights)\n",
    "print()\n",
    "\n",
    "# 야식 복용 후 몸무게 랜덤 생성\n",
    "tmp_list = []\n",
    "for weight in beforeWeights :\n",
    "    # 0.99-0.02 ~ 0.99+0.02 \n",
    "    tmp_list.append(weight * np.random.normal(0.99, 0.02))\n",
    "\n",
    "afterWeights = np.array(tmp_list)\n",
    "print(\"afterWeights = \", afterWeights)\n",
    "\n",
    "# 전/후 검증하기\n",
    "result = stats.ttest_rel(beforeWeights, afterWeights)\n",
    "print(\"검정 결과 = \", result)\n",
    "print(\"검정 통계량 = %.3f,   p-value = %.3f\" % (result))\n",
    "\n",
    "# (해석)\n",
    "# 1. p-value = 0.027 < 0.05 이므로, 귀무가설 기각\n",
    "# 2. 대립가설 채택 : 전/후 데이터 차이는 있다.\n",
    "#                : 야식을 먹기전과 먹은후는 몸무게 차이가 발생한다."
   ]
  },
  {
   "cell_type": "markdown",
   "id": "1766e52c-9548-4c4d-b6e1-2a11836535f0",
   "metadata": {},
   "source": [
    "### exe-2) 특강 전/후 시험점수의 차이 검정\n",
    "##### - 귀무가설 : 특강 전/후 시험점수의 차이가 없다.\n",
    "##### - 대립가설 : 특강 전/후 시험점수의 차이가 있다."
   ]
  },
  {
   "cell_type": "code",
   "execution_count": 17,
   "id": "c9971937-c8e9-4d1f-a82c-eecdb0805a0b",
   "metadata": {},
   "outputs": [],
   "source": [
    "import numpy as np\n",
    "import pandas as pd\n",
    "import scipy.stats as stats\n",
    "from seaborn.distributions import distplot"
   ]
  },
  {
   "cell_type": "code",
   "execution_count": 35,
   "id": "4ee1f225-cc37-44ab-ab02-e6c89ddcc106",
   "metadata": {
    "tags": []
   },
   "outputs": [
    {
     "name": "stdout",
     "output_type": "stream",
     "text": [
      "beforelecture =  [81 72 78 87 70 86 87 70 81 72 74 86 89 83 88 87 81 75 79 73 88 88 84 72\n",
      " 88 76 87 77 72 73 89 86 89 80 70 81 75 86 82 72 82 77 70 77 83 82 78 72\n",
      " 72 82 75 84 70 82 83 78 78 73 88 78 83 71 89 70 72 73 71 71 75 73 79 88\n",
      " 71 73 89 80 89 71 88 78 72 82 84 85 77 82 83 81 81 81 78 80 70 71 81 85\n",
      " 86 80 77 77]\n",
      "afterlecture =  [78 85 73 83 72 69 72 86 86 68 73 80 83 81 81 79 73 67 71 82 67 68 71 84\n",
      " 70 67 78 67 67 71 69 70 70 78 81 76 78 81 82 83 77 71 71 78 69 80 68 82\n",
      " 74 67 80 77 83 75 80 77 70 81 69 86 83 79 77 84 78 83 86 84 75 69 80 78\n",
      " 68 72 80 80 79 69 68 82 80 79 73 82 72 79 67 68 79 72 85 69 72 80 86 84\n",
      " 70 84 76 76]\n"
     ]
    }
   ],
   "source": [
    "# 데이터 생성하기\n",
    "# 랜덤값 시드(seed) 임의로 생성\n",
    "np.random.seed(7672)\n",
    "\n",
    "# 특강전 데이터 : 랜덤하게 80을 기준으로 +-10, 100개 생성\n",
    "beforelecture = np.random.randint(low=70, high=90, size=100)\n",
    "print(\"beforelecture = \", beforelecture)\n",
    "\n",
    "# 특강후 데이터 : 랜덤하게 77을 기준으로 +-10, 100개 생성\n",
    "afterlecture = np.random.randint(low=67, high=87, size=100)\n",
    "print(\"afterlecture = \", afterlecture)\n",
    "\n",
    "# 정규성 검사\n",
    "\n",
    "# 정규성 시각화 (한글처리 포함)\n",
    "\n",
    "# 전/후 검정\n",
    "\n",
    "# 해석"
   ]
  },
  {
   "cell_type": "code",
   "execution_count": 40,
   "id": "6683b44d-ca31-4784-aa00-5ec1c9eaff46",
   "metadata": {},
   "outputs": [
    {
     "data": {
      "image/png": "[encoded data removed]",
      "text/plain": [
       "<Figure size 432x288 with 1 Axes>"
      ]
     },
     "metadata": {
      "needs_background": "light"
     },
     "output_type": "display_data"
    }
   ],
   "source": [
    "# 평균(중앙점) 추이 분석 - 박스플롯 이용\n",
    "plt.boxplot([beforelecture, afterlecture],\n",
    "            meanline = True,\n",
    "            showmeans = True,\n",
    "            notch = True)\n",
    "plt.show()"
   ]
  },
  {
   "cell_type": "code",
   "execution_count": 36,
   "id": "5994059f-d499-493f-b73a-d0dcc37704fb",
   "metadata": {},
   "outputs": [
    {
     "name": "stdout",
     "output_type": "stream",
     "text": [
      "정규성 검정 결과 =  ShapiroResult(statistic=0.9320595860481262, pvalue=6.526085053337738e-05)\n",
      "t-검정 통계량 = 0.932,    p-value = 0.000\n",
      "\n",
      "정규성 검정 결과 =  ShapiroResult(statistic=0.9296281933784485, pvalue=4.741075827041641e-05)\n",
      "t-검정 통계량 = 0.930,    p-value = 0.000\n"
     ]
    }
   ],
   "source": [
    "# 정규성 검정(stats.shapiro())\n",
    "# 검증 시 대부분의 집단은 정규분포를 따른다는 가정하에 진행하는 것이 일반적\n",
    "# p-value의 값이 커질 수록, 평균의 분포는 정규분포를 띈다.\n",
    "\n",
    "resultSh = stats.shapiro(beforelecture)\n",
    "print(\"정규성 검정 결과 = \", resultSh)\n",
    "print(\"t-검정 통계량 = %.3f,    p-value = %.3f\" %(resultSh))\n",
    "\n",
    "# (해석)\n",
    "# - p-value = 0.000 < 0.05 이므로, 정규성을 만족하지 않는다.\n",
    "print()\n",
    "\n",
    "resultSh = stats.shapiro(afterlecture)\n",
    "print(\"정규성 검정 결과 = \", resultSh)\n",
    "print(\"t-검정 통계량 = %.3f,    p-value = %.3f\" %(resultSh))\n",
    "\n",
    "# (해석)\n",
    "# - p-value = 0.000 < 0.05 이므로, 정규성을 만족하지 않는다."
   ]
  },
  {
   "cell_type": "code",
   "execution_count": 37,
   "id": "7343e9b7-6650-4401-a40f-cef319fd8ae4",
   "metadata": {},
   "outputs": [
    {
     "name": "stderr",
     "output_type": "stream",
     "text": [
      "C:\\Users\\admin\\anaconda3\\lib\\site-packages\\seaborn\\distributions.py:2619: FutureWarning: `distplot` is a deprecated function and will be removed in a future version. Please adapt your code to use either `displot` (a figure-level function with similar flexibility) or `histplot` (an axes-level function for histograms).\n",
      "  warnings.warn(msg, FutureWarning)\n",
      "C:\\Users\\admin\\anaconda3\\lib\\site-packages\\seaborn\\distributions.py:2619: FutureWarning: `distplot` is a deprecated function and will be removed in a future version. Please adapt your code to use either `displot` (a figure-level function with similar flexibility) or `histplot` (an axes-level function for histograms).\n",
      "  warnings.warn(msg, FutureWarning)\n"
     ]
    },
    {
     "data": {
      "image/png": "[encoded data removed]",
      "text/plain": [
       "<Figure size 432x288 with 1 Axes>"
      ]
     },
     "metadata": {
      "needs_background": "light"
     },
     "output_type": "display_data"
    }
   ],
   "source": [
    "# 정규분포 시각화\n",
    "import seaborn as sns\n",
    "import matplotlib.pyplot as plt\n",
    "\n",
    "# 한글 처리\n",
    "plt.rc(\"font\", family = \"Malgun Gothic\")\n",
    "\n",
    "# x: 데이터 집합\n",
    "# stats.norm : 정규 분포 표시\n",
    "sns.distplot(beforelecture, fit=stats.norm)\n",
    "sns.distplot(afterlecture, fit=stats.norm)\n",
    "plt.show()"
   ]
  },
  {
   "cell_type": "code",
   "execution_count": 41,
   "id": "26703f7c-7b9d-4cd3-affb-f1da99cdca10",
   "metadata": {},
   "outputs": [
    {
     "name": "stdout",
     "output_type": "stream",
     "text": [
      "두 집단 평균 검정 (단일 표본검정) =  Ttest_relResult(statistic=3.3331849969011342, pvalue=0.0012085827930215255)\n",
      "t-검정 통계량 = 3.333,    p-value = 0.001\n"
     ]
    }
   ],
   "source": [
    "# 검증하기 (Independent Samples t-test)\n",
    "# 첫번째 : 기준집단, \n",
    "# 두번째 : 관측집단\n",
    "\n",
    "result = stats.ttest_rel(beforelecture, afterlecture)\n",
    "\n",
    "print(\"두 집단 평균 검정 (단일 표본검정) = \", result)\n",
    "print(\"t-검정 통계량 = %.3f,    p-value = %.3f\" %(result))\n",
    "\n",
    "# (해석 - 검증결과)\n",
    "# 1. p-value = 0.001 < 0.05 이므로, 귀무가설 기각\n",
    "# 2. 대립가설 채택 : 전/후 데이터 차이는 있다.\n",
    "#                 : 특강 전/후 시험점수의 차이가 있다."
   ]
  },
  {
   "cell_type": "markdown",
   "id": "8ba7f58e-5d9d-4238-8f87-5538f212f435",
   "metadata": {},
   "source": [
    "### exe-2) 정답"
   ]
  },
  {
   "cell_type": "code",
   "execution_count": null,
   "id": "08101f53-4e7e-4627-a165-68fd684162eb",
   "metadata": {},
   "outputs": [],
   "source": [
    "# 데이터 생성하기\n",
    "# 랜덤값 시드(seed) 임의로 생성\n",
    "\n",
    "# 특강전 데이터 : 랜덤하게 80을 기준으로 +-10, 100개 생성\n",
    "beforelecture = np.random.randint(low=70, high=90, size=100)\n",
    "print(\"beforelecture = \", beforelecture)\n",
    "\n",
    "# 특강후 데이터 : 랜덤하게 77을 기준으로 +-10, 100개 생성\n",
    "afterlecture = np.random.randint(low=67, high=87, size=100)\n",
    "print(\"afterlecture = \", afterlecture)\n",
    "\n",
    "# 정규성 검사\n",
    "\n",
    "# 정규성 시각화 (한글처리 포함)\n",
    "\n",
    "# 전/후 검정\n",
    "\n",
    "# 해석"
   ]
  },
  {
   "cell_type": "code",
   "execution_count": 69,
   "id": "caa75201-a332-47af-b610-6189af3a894e",
   "metadata": {},
   "outputs": [
    {
     "name": "stdout",
     "output_type": "stream",
     "text": [
      "특강 전 x1 =  [ 84.72985831  73.18574121  82.42439497  62.99264366  87.53142834\n",
      "  64.6527866   80.05127078  78.7977233   71.93018121 108.71819395\n",
      "  74.02177081  84.72456994  90.95956118  67.84831199  93.42356371\n",
      "  78.77850212  90.12515477  70.86130853  69.70469793  92.0979645\n",
      "  85.01872304  81.38846177  86.40761113  85.27332665  68.45639765\n",
      "  57.86666521  63.1824349   62.11905749  57.81465055  73.5256922\n",
      "  74.71595679  79.60790825  82.14975948  76.15641197  77.46095922\n",
      "  80.73252075  70.02796163  72.86143712  80.35416346  73.22054635\n",
      "  74.28118938  78.94137685  93.35831339  83.18665288  76.6240475\n",
      "  74.14731722  78.85080059 102.41817794  48.52583478  85.35135893\n",
      "  82.32490439  88.67611951  68.51787286 101.14344241  90.00942761\n",
      "  79.48585005  81.59787698  72.83736414  80.50522827  78.56662585\n",
      "  89.43575391  83.57644225  79.16550797  86.77806103  85.56060374\n",
      "  82.22719461  64.71014521  90.29211176  68.33741241  69.90438348\n",
      "  78.94732011  85.12022158  94.07727764  63.12303669  94.71233993\n",
      "  96.36462907  75.38605064  77.9863773   74.2818327   73.96700885\n",
      "  66.60610779  63.1034708   78.00672661  82.57772585  98.28820715\n",
      "  69.98998455  59.08308787  81.46559706  75.33648898  83.56223007\n",
      "  76.02120267  67.40776484  73.11121308  88.0263045   82.72391041\n",
      "  70.30823501  88.71968122  65.53640557  74.63518736  81.97920516]\n",
      "\n",
      "특강 후 x2 =  [ 63.34360186  65.05555617  77.15934543  76.19956538  74.49197287\n",
      "  71.34857106  65.9732806   69.17717559 107.41686206  70.73918779\n",
      "  92.05900913  71.12663913  90.65852914  89.32044874  81.50889233\n",
      "  70.58590182  63.22403967  86.65746348  64.1599654   64.254279\n",
      "  92.22841762  91.61882431  77.37655963  74.53802801  70.35702426\n",
      "  80.51335538  72.15968568  61.8691274   69.36469513  79.4920321\n",
      "  61.10191392  67.20474078  78.22761629  93.89292094  78.77749865\n",
      "  77.32006021  96.33215564  66.37905289  69.67370901  85.42741393\n",
      "  87.76739987  81.57690538  50.80506677  84.39046342  83.67501058\n",
      "  77.46402636  83.66077597  91.07948484  77.51149186  67.64025139\n",
      "  58.60890692  77.63778728  69.86031903  71.38115337  65.67531149\n",
      "  79.74291003  84.35912111  81.34318749  65.79958895  85.8909461\n",
      "  80.14506945  52.11995536  82.9590861   56.64137964  65.61718347\n",
      "  87.57642286  83.5276854   70.55533149  68.16537909  80.45692373\n",
      "  59.0317254   81.10709619  74.08176551  84.34147649  75.74504335\n",
      "  66.11482585  79.02230925  73.50165599  62.78723101  65.36411664\n",
      "  66.93323713  77.5002176   84.65430135  76.71485122  64.943544\n",
      "  73.18455158  82.66843638  87.77336746  67.59641277  79.83607122\n",
      "  73.09679519  55.45875559  64.05316251  71.33779305  71.8229079\n",
      "  73.04121692  70.96304755  80.67392891  67.40988186  61.04703278]\n",
      "\n"
     ]
    }
   ],
   "source": [
    "### 데이터 생성하기\n",
    "np.random.seed(12)\n",
    "\n",
    "# 특강 전\n",
    "x1 = np.random.normal(80, 10, 100)\n",
    "print(\"특강 전 x1 = \", x1)\n",
    "print()\n",
    "\n",
    "# 특강 후\n",
    "x2 = np.random.normal(77, 10, 100)\n",
    "print(\"특강 후 x2 = \", x2)\n",
    "print()"
   ]
  },
  {
   "cell_type": "code",
   "execution_count": 43,
   "id": "c2e52f4f-eefc-4ffa-83ff-53a11e295540",
   "metadata": {},
   "outputs": [
    {
     "name": "stdout",
     "output_type": "stream",
     "text": [
      "정규성 검정 결과 =  ShapiroResult(statistic=0.9961193799972534, pvalue=0.9942135810852051)\n",
      "t-검정 통계량 = 0.996,    p-value = 0.994\n",
      "\n",
      "정규성 검정 결과 =  ShapiroResult(statistic=0.9916926622390747, pvalue=0.7985416054725647)\n",
      "t-검정 통계량 = 0.992,    p-value = 0.799\n"
     ]
    }
   ],
   "source": [
    "# 정규성 검정(stats.shapiro())\n",
    "# 검증 시 대부분의 집단은 정규분포를 따른다는 가정하에 진행하는 것이 일반적\n",
    "# p-value의 값이 커질 수록, 평균의 분포는 정규분포를 띈다.\n",
    "\n",
    "resultSh = stats.shapiro(x1)\n",
    "print(\"정규성 검정 결과 = \", resultSh)\n",
    "print(\"t-검정 통계량 = %.3f,    p-value = %.3f\" %(resultSh))\n",
    "\n",
    "# (해석)\n",
    "# - p-value = 0.994 > 0.05 이므로, 정규성을 만족한다.\n",
    "print()\n",
    "\n",
    "resultSh = stats.shapiro(x2)\n",
    "print(\"정규성 검정 결과 = \", resultSh)\n",
    "print(\"t-검정 통계량 = %.3f,    p-value = %.3f\" %(resultSh))\n",
    "\n",
    "# (해석)\n",
    "# - p-value = 0.799 > 0.05 이므로, 정규성을 만족한다."
   ]
  },
  {
   "cell_type": "code",
   "execution_count": 44,
   "id": "8761d1ed-0e24-4443-9205-860e4c3b1a31",
   "metadata": {},
   "outputs": [
    {
     "name": "stderr",
     "output_type": "stream",
     "text": [
      "C:\\Users\\admin\\anaconda3\\lib\\site-packages\\seaborn\\distributions.py:2619: FutureWarning: `distplot` is a deprecated function and will be removed in a future version. Please adapt your code to use either `displot` (a figure-level function with similar flexibility) or `histplot` (an axes-level function for histograms).\n",
      "  warnings.warn(msg, FutureWarning)\n",
      "C:\\Users\\admin\\anaconda3\\lib\\site-packages\\seaborn\\distributions.py:2619: FutureWarning: `distplot` is a deprecated function and will be removed in a future version. Please adapt your code to use either `displot` (a figure-level function with similar flexibility) or `histplot` (an axes-level function for histograms).\n",
      "  warnings.warn(msg, FutureWarning)\n"
     ]
    },
    {
     "data": {
      "image/png": "[encoded data removed]",
      "text/plain": [
       "<Figure size 432x288 with 1 Axes>"
      ]
     },
     "metadata": {
      "needs_background": "light"
     },
     "output_type": "display_data"
    }
   ],
   "source": [
    "# 정규분포 시각화\n",
    "import seaborn as sns\n",
    "import matplotlib.pyplot as plt\n",
    "\n",
    "# 한글 처리\n",
    "plt.rc(\"font\", family = \"Malgun Gothic\")\n",
    "\n",
    "# x: 데이터 집합\n",
    "# stats.norm : 정규 분포 표시\n",
    "sns.distplot(x1, fit=stats.norm)\n",
    "sns.distplot(x2, fit=stats.norm)\n",
    "plt.show()"
   ]
  },
  {
   "cell_type": "code",
   "execution_count": 45,
   "id": "2bfb44ce-b2ba-4524-bedf-257a82dd144c",
   "metadata": {},
   "outputs": [
    {
     "name": "stdout",
     "output_type": "stream",
     "text": [
      "등분산성 levene 검증결과 =  LeveneResult(statistic=0.06929364834301127, pvalue=0.7926417456653776)\n",
      "t-검정 통계량 = 0.069,    p-value = 0.793\n",
      "\n",
      "등분산성 fligner 검증결과 =  FlignerResult(statistic=0.09634841717764164, pvalue=0.7562564791467304)\n",
      "t-검정 통계량 = 0.096,    p-value = 0.756\n",
      "\n",
      "등분산성 bartlett 검증결과 =  BartlettResult(statistic=0.03510344807544348, pvalue=0.8513790552865215)\n",
      "t-검정 통계량 = 0.035,    p-value = 0.851\n"
     ]
    }
   ],
   "source": [
    "'''\n",
    "### 등분산성 검증 : 하나의 집단인 경우에는 등분산성 검증을 하지 않는다.\n",
    "\n",
    "# - 귀무가설 : 두 집단간 분산이 동일하다. (p-value > 0.05)\n",
    "# - 대립가설 : 두 집단간 분산이 동일하지 않다.\n",
    "\n",
    "# 등분산성 검증 3가지 방법으로 진행됩니다.\n",
    "# 1. levene(레빈) 방법\n",
    "# 2. fligner(플리그너) 방법\n",
    "# 3. bartlett(바틀렛) 방법\n",
    "\n",
    "# 1. levene(레빈) 방법\n",
    "sLevene = stats.levene(x1, x2)\n",
    "\n",
    "print(\"등분산성 levene 검증결과 = \", sLevene)\n",
    "print(\"t-검정 통계량 = %.3f,    p-value = %.3f\" %(sLevene))\n",
    "\n",
    "# (해석)\n",
    "# 1. p-value = 0.712 > 0.05 이므로, 귀무가설 채택\n",
    "# 2. 귀무가설 채택 : 두 집단간 등분산성 만족\n",
    "print()\n",
    "\n",
    "# 2. fligner(플리그너) 방법\n",
    "sFligner = stats.fligner(x1, x2)\n",
    "\n",
    "print(\"등분산성 fligner 검증결과 = \", sFligner)\n",
    "print(\"t-검정 통계량 = %.3f,    p-value = %.3f\" %(sFligner))\n",
    "\n",
    "# (해석)\n",
    "# 1. p-value = 0.705 > 0.05 이므로, 귀무가설 채택\n",
    "# 2. 귀무가설 채택 : 두 집단간 등분산성 만족\n",
    "\n",
    "print()\n",
    "# 3. bartlett(바틀렛) 방법\n",
    "sBartlett = stats.bartlett(x1, x2)\n",
    "\n",
    "print(\"등분산성 bartlett 검증결과 = \", sBartlett)\n",
    "print(\"t-검정 통계량 = %.3f,    p-value = %.3f\" %(sBartlett))\n",
    "\n",
    "# (해석)\n",
    "# 1. p-value = 0.604 > 0.05 이므로, 귀무가설 채택\n",
    "# 2. 귀무가설 채택 : 두 집단간 등분산성 만족\n",
    "'''"
   ]
  },
  {
   "cell_type": "code",
   "execution_count": 46,
   "id": "2c302f6c-0175-4636-bb48-247e6c6a5f9a",
   "metadata": {},
   "outputs": [
    {
     "name": "stdout",
     "output_type": "stream",
     "text": [
      "검정 결과 =  Ttest_relResult(statistic=2.388932926547383, pvalue=0.018792247355705678)\n",
      "검정 통계량 = 2.389,   p-value = 0.019\n"
     ]
    }
   ],
   "source": [
    "# 전/후 검증하기\n",
    "result = stats.ttest_rel(x1, x2)\n",
    "print(\"검정 결과 = \", result)\n",
    "print(\"검정 통계량 = %.3f,   p-value = %.3f\" % (result))\n",
    "\n",
    "# (해석)\n",
    "# 1. p-value = 0.019 < 0.05 이므로, 귀무가설 기각\n",
    "# 2. 대립가설 채택 : 전/후 데이터 차이는 있다.\n",
    "#                : 특강 전/후의 시험점수의 차이가 발생한다."
   ]
  },
  {
   "cell_type": "markdown",
   "id": "90f66c03-e3c5-44ac-960a-98103362ec4c",
   "metadata": {},
   "source": [
    "### exe-3) 환자 9명의 복부 수술전/후 몸무게 변화에 대한 차이 검정\n",
    "##### - 귀무가설 : 복부 수술 전/후 몸무게 변화가 없다.\n",
    "##### - 대립가설 : 복부 수술 전/후 몸무게 변화가 있다."
   ]
  },
  {
   "cell_type": "code",
   "execution_count": null,
   "id": "58adb72f-7cea-40c1-ae19-2bd1c104e4f8",
   "metadata": {},
   "outputs": [],
   "source": [
    "# 데이터 생성\n",
    "# 정규성 검정\n",
    "# 정규성 시각화\n",
    "# 전/후 검정\n",
    "# 해석"
   ]
  },
  {
   "cell_type": "code",
   "execution_count": 70,
   "id": "377607f8-9187-4e24-93cb-c9ed5fb4f0d6",
   "metadata": {},
   "outputs": [],
   "source": [
    "import numpy as np\n",
    "import pandas as pd\n",
    "import scipy.stats as stats\n",
    "from seaborn.distributions import distplot"
   ]
  },
  {
   "cell_type": "code",
   "execution_count": 56,
   "id": "774c4a55-1f9f-4a87-9e41-b955074c1f4f",
   "metadata": {},
   "outputs": [
    {
     "name": "stdout",
     "output_type": "stream",
     "text": [
      "수술 전 x1 =  [66.74310819 72.99203634 70.84893549 65.48111586 68.26419924 74.95430961\n",
      " 62.71996227 68.71326211 73.79780878]\n",
      "\n",
      "수술 후 x2 =  [64.39977879 64.96334155 66.71587309 71.47416888 65.08329401 65.66805412\n",
      " 65.69694617 73.61779025 73.56035827]\n",
      "\n"
     ]
    }
   ],
   "source": [
    "### 데이터 생성하기\n",
    "np.random.seed(123)\n",
    "\n",
    "# 특강 전\n",
    "x1 = np.random.normal(70, 3, 9)\n",
    "print(\"수술 전 x1 = \", x1)\n",
    "print()\n",
    "\n",
    "# 특강 후\n",
    "x2 = np.random.normal(67, 3, 9)\n",
    "print(\"수술 후 x2 = \", x2)\n",
    "print()"
   ]
  },
  {
   "cell_type": "code",
   "execution_count": 57,
   "id": "093d7ffa-bc3b-4176-801b-c11da0dbdc7f",
   "metadata": {},
   "outputs": [
    {
     "name": "stdout",
     "output_type": "stream",
     "text": [
      "정규성 검정 결과 =  ShapiroResult(statistic=0.9670095443725586, pvalue=0.8680142760276794)\n",
      "t-검정 통계량 = 0.967,    p-value = 0.868\n",
      "\n",
      "정규성 검정 결과 =  ShapiroResult(statistic=0.7807639837265015, pvalue=0.012290454469621181)\n",
      "t-검정 통계량 = 0.781,    p-value = 0.012\n"
     ]
    }
   ],
   "source": [
    "# 정규성 검정(stats.shapiro())\n",
    "# 검증 시 대부분의 집단은 정규분포를 따른다는 가정하에 진행하는 것이 일반적\n",
    "# p-value의 값이 커질 수록, 평균의 분포는 정규분포를 띈다.\n",
    "\n",
    "resultSh = stats.shapiro(x1)\n",
    "print(\"정규성 검정 결과 = \", resultSh)\n",
    "print(\"t-검정 통계량 = %.3f,    p-value = %.3f\" %(resultSh))\n",
    "\n",
    "# (해석)\n",
    "# - p-value = 0.868 > 0.05 이므로, 정규성을 만족한다.\n",
    "print()\n",
    "\n",
    "resultSh = stats.shapiro(x2)\n",
    "print(\"정규성 검정 결과 = \", resultSh)\n",
    "print(\"t-검정 통계량 = %.3f,    p-value = %.3f\" %(resultSh))\n",
    "\n",
    "# (해석)\n",
    "# - p-value = 0.012 < 0.05 이므로, 정규성을 만족하지 않는다."
   ]
  },
  {
   "cell_type": "code",
   "execution_count": 60,
   "id": "76c2e678-a533-4c9a-8e56-6134ba30f247",
   "metadata": {},
   "outputs": [
    {
     "name": "stderr",
     "output_type": "stream",
     "text": [
      "C:\\Users\\admin\\anaconda3\\lib\\site-packages\\seaborn\\distributions.py:2619: FutureWarning: `distplot` is a deprecated function and will be removed in a future version. Please adapt your code to use either `displot` (a figure-level function with similar flexibility) or `histplot` (an axes-level function for histograms).\n",
      "  warnings.warn(msg, FutureWarning)\n",
      "C:\\Users\\admin\\anaconda3\\lib\\site-packages\\seaborn\\distributions.py:2619: FutureWarning: `distplot` is a deprecated function and will be removed in a future version. Please adapt your code to use either `displot` (a figure-level function with similar flexibility) or `histplot` (an axes-level function for histograms).\n",
      "  warnings.warn(msg, FutureWarning)\n"
     ]
    },
    {
     "data": {
      "image/png": "[encoded data removed]",
      "text/plain": [
       "<Figure size 432x288 with 1 Axes>"
      ]
     },
     "metadata": {
      "needs_background": "light"
     },
     "output_type": "display_data"
    }
   ],
   "source": [
    "# 정규분포 시각화\n",
    "import seaborn as sns\n",
    "import matplotlib.pyplot as plt\n",
    "\n",
    "# 한글 처리\n",
    "plt.rc(\"font\", family = \"Malgun Gothic\")\n",
    "\n",
    "# x: 데이터 집합\n",
    "# stats.norm : 정규 분포 표시\n",
    "sns.distplot(x1, fit=stats.norm)\n",
    "sns.distplot(x2, fit=stats.norm)\n",
    "plt.show()"
   ]
  },
  {
   "cell_type": "code",
   "execution_count": 68,
   "id": "8653202c-a312-41f7-97ba-38ee9f546dcb",
   "metadata": {},
   "outputs": [
    {
     "name": "stdout",
     "output_type": "stream",
     "text": [
      "검정 결과 =  Ttest_relResult(statistic=4.037616799743391, pvalue=0.00010658658319794329)\n",
      "검정 통계량 = 4.038,   p-value = 0.000\n"
     ]
    }
   ],
   "source": [
    "# 전/후 검증하기\n",
    "result = stats.ttest_rel(x1, x2)\n",
    "print(\"검정 결과 = \", result)\n",
    "print(\"검정 통계량 = %.3f,   p-value = %.3f\" % (result))\n",
    "\n",
    "# (해석)\n",
    "# 1. p-value = 0.434 > 0.05 이므로, 귀무가설 채택\n",
    "# 2. 귀무가설 채택 : 전/후 데이터 차이는 없다.\n",
    "#                : 복부 수술 전/후의 몸무게 변화의 차이는 없다."
   ]
  },
  {
   "cell_type": "markdown",
   "id": "5ca48462-a5f9-45bc-90c7-b3d02497b3d1",
   "metadata": {},
   "source": [
    "### exe-3) 정답"
   ]
  },
  {
   "cell_type": "code",
   "execution_count": 72,
   "id": "b968a1f7-092c-4e09-bf67-cd2e8ee48273",
   "metadata": {},
   "outputs": [],
   "source": [
    "import numpy as np\n",
    "import scipy.stats as stats\n",
    "from seaborn.distributions import distplot"
   ]
  },
  {
   "cell_type": "code",
   "execution_count": 73,
   "id": "32962139-b727-4105-b7f4-2b0544a6d07f",
   "metadata": {},
   "outputs": [],
   "source": [
    "### 데이터 생성하기\n",
    "# 수술전\n",
    "x1 = [67.2, 67.4, 71.5, 77.6, 86.0, 89.1, 59.5, 81.9, 105.5]\n",
    "\n",
    "# 수술후\n",
    "x2 = [62.4, 64.6, 70.4, 62.6, 80.1, 73.2, 58.2, 71.0, 101.0]"
   ]
  },
  {
   "cell_type": "code",
   "execution_count": 74,
   "id": "09e25206-2349-4671-b77d-f32c03fde9e0",
   "metadata": {},
   "outputs": [
    {
     "name": "stdout",
     "output_type": "stream",
     "text": [
      "정규성 검정 결과 =  ShapiroResult(statistic=0.9611198306083679, pvalue=0.809967577457428)\n",
      "t-검정 통계량 = 0.961,    p-value = 0.810\n",
      "\n",
      "정규성 검정 결과 =  ShapiroResult(statistic=0.8478229641914368, pvalue=0.0705145075917244)\n",
      "t-검정 통계량 = 0.848,    p-value = 0.071\n"
     ]
    }
   ],
   "source": [
    "# 정규성 검정(stats.shapiro())\n",
    "# 검증 시 대부분의 집단은 정규분포를 따른다는 가정하에 진행하는 것이 일반적\n",
    "# p-value의 값이 커질 수록, 평균의 분포는 정규분포를 띈다.\n",
    "\n",
    "resultSh = stats.shapiro(x1)\n",
    "print(\"정규성 검정 결과 = \", resultSh)\n",
    "print(\"t-검정 통계량 = %.3f,    p-value = %.3f\" %(resultSh))\n",
    "\n",
    "# (해석)\n",
    "# - p-value = 0.810 > 0.05 이므로, 정규성을 만족한다.\n",
    "print()\n",
    "\n",
    "resultSh = stats.shapiro(x2)\n",
    "print(\"정규성 검정 결과 = \", resultSh)\n",
    "print(\"t-검정 통계량 = %.3f,    p-value = %.3f\" %(resultSh))\n",
    "\n",
    "# (해석)\n",
    "# - p-value = 0.071 > 0.05 이므로, 정규성을 만족한다."
   ]
  },
  {
   "cell_type": "code",
   "execution_count": 75,
   "id": "5ee59c07-6e26-4573-9237-0a72203d5162",
   "metadata": {},
   "outputs": [
    {
     "name": "stderr",
     "output_type": "stream",
     "text": [
      "C:\\Users\\admin\\anaconda3\\lib\\site-packages\\seaborn\\distributions.py:2619: FutureWarning: `distplot` is a deprecated function and will be removed in a future version. Please adapt your code to use either `displot` (a figure-level function with similar flexibility) or `histplot` (an axes-level function for histograms).\n",
      "  warnings.warn(msg, FutureWarning)\n",
      "C:\\Users\\admin\\anaconda3\\lib\\site-packages\\seaborn\\distributions.py:2619: FutureWarning: `distplot` is a deprecated function and will be removed in a future version. Please adapt your code to use either `displot` (a figure-level function with similar flexibility) or `histplot` (an axes-level function for histograms).\n",
      "  warnings.warn(msg, FutureWarning)\n"
     ]
    },
    {
     "data": {
      "image/png": "[encoded data removed]",
      "text/plain": [
       "<Figure size 432x288 with 1 Axes>"
      ]
     },
     "metadata": {
      "needs_background": "light"
     },
     "output_type": "display_data"
    }
   ],
   "source": [
    "# 정규분포 시각화\n",
    "import seaborn as sns\n",
    "import matplotlib.pyplot as plt\n",
    "\n",
    "# 한글 처리\n",
    "plt.rc(\"font\", family = \"Malgun Gothic\")\n",
    "\n",
    "# x: 데이터 집합\n",
    "# stats.norm : 정규 분포 표시\n",
    "sns.distplot(x1, fit=stats.norm)\n",
    "sns.distplot(x2, fit=stats.norm)\n",
    "plt.show()"
   ]
  },
  {
   "cell_type": "code",
   "execution_count": 78,
   "id": "a46b3f19-3f66-4e7e-a683-1fc292787363",
   "metadata": {},
   "outputs": [
    {
     "name": "stdout",
     "output_type": "stream",
     "text": [
      "검정 결과 =  Ttest_relResult(statistic=3.6681166519351103, pvalue=0.006326650855933662)\n",
      "검정 통계량 = 3.668,   p-value = 0.006\n"
     ]
    }
   ],
   "source": [
    "# 전/후 검증하기\n",
    "result = stats.ttest_rel(x1, x2)\n",
    "print(\"검정 결과 = \", result)\n",
    "print(\"검정 통계량 = %.3f,   p-value = %.3f\" % (result))\n",
    "\n",
    "# (해석)\n",
    "# 1. p-value = 0.006 < 0.05 이므로, 귀무가설 기각\n",
    "# 2. 대립가설 채택 : 전/후 데이터 차이는 있다.\n",
    "#                : 복부 수술 전/후의 몸무게 차이는 있다."
   ]
  },
  {
   "cell_type": "code",
   "execution_count": null,
   "id": "e185ba54-367a-421f-9506-3967742af0de",
   "metadata": {},
   "outputs": [],
   "source": []
  },
  {
   "cell_type": "code",
   "execution_count": null,
   "id": "914ae216-0544-4f2f-86da-3cba6b6288d1",
   "metadata": {},
   "outputs": [],
   "source": []
  }
 ],
 "metadata": {
  "kernelspec": {
   "display_name": "Python 3.9.12 64-bit",
   "language": "python",
   "name": "python3"
  },
  "language_info": {
   "codemirror_mode": {
    "name": "ipython",
    "version": 3
   },
   "file_extension": ".py",
   "mimetype": "text/x-python",
   "name": "python",
   "nbconvert_exporter": "python",
   "pygments_lexer": "ipython3",
   "version": "3.9.12"
  },
  "vscode": {
   "interpreter": {
    "hash": "38ae1ba9371524da054e8e3fbefd778d16b5a8ac7937a3f395010f627bb73919"
   }
  }
 },
 "nbformat": 4,
 "nbformat_minor": 5
}
